{
  "cells": [
    {
      "cell_type": "code",
      "execution_count": null,
      "id": "4a1921ef",
      "metadata": {
        "id": "4a1921ef"
      },
      "outputs": [],
      "source": [
        "from bs4 import BeautifulSoup\n",
        "import requests"
      ]
    },
    {
      "cell_type": "code",
      "execution_count": null,
      "id": "b489e089",
      "metadata": {
        "id": "b489e089"
      },
      "outputs": [],
      "source": [
        "html_text = requests.get('https://www.google.com/travel/things-to-do/see-all?dest_src=ut&tcfs=EiwKCC9tLzA2czZsEiBTYWludCBWaW5jZW50IGFuZCB0aGUgR3JlbmFkaW5lcw&dest_mid=%2Fm%2F06s6l&hl=en-IN&gl=in&g2lb=2502548%2C2503771%2C2503781%2C4258168%2C4270442%2C4284970%2C4291517%2C4306835%2C4308227%2C4401769%2C4429192%2C4524134%2C4597339%2C4640247%2C4647135%2C4649665%2C4680677%2C4721475%2C4722435%2C4722900%2C4723331%2C4726607%2C4733706%2C4738606%2C4742277&dest_state_type=sattd').text\n",
        "soup = BeautifulSoup(html_text, 'lxml')"
      ]
    },
    {
      "cell_type": "code",
      "execution_count": null,
      "id": "9b72a423",
      "metadata": {
        "id": "9b72a423"
      },
      "outputs": [],
      "source": [
        "places = []\n",
        "div_list = soup.find_all('div',class_='skFvHc')\n",
        "for index,each_div in enumerate(div_list):\n",
        "    places.append(each_div.text)\n",
        "    print(each_div.text.strip())\n",
        "    \n"
      ]
    },
    {
      "cell_type": "code",
      "execution_count": null,
      "id": "c34e2c36",
      "metadata": {
        "id": "c34e2c36"
      },
      "outputs": [],
      "source": [
        "type_list = soup.find_all('div',class_=\"GwjAi\")\n",
        "for typeM in type_list:\n",
        "    if typeM.find('div',class_=\"nFoFM\").text:\n",
        "        print(typeM.find('div',class_=\"nFoFM\").text.strip())\n",
        "    else:\n",
        "        print('none')\n",
        "        "
      ]
    },
    {
      "cell_type": "code",
      "execution_count": null,
      "id": "f911cf33",
      "metadata": {
        "id": "f911cf33"
      },
      "outputs": [],
      "source": [
        "rate_span = soup.find_all('div',class_=\"GwjAi\")\n",
        "for each_rate in rate_span:\n",
        "    if each_rate.find('span',class_=\"KFi5wf\"):\n",
        "        print(each_rate.find('span',class_=\"KFi5wf\").text.strip())\n",
        "    else:\n",
        "        print('none')"
      ]
    },
    {
      "cell_type": "code",
      "execution_count": null,
      "id": "f0ac303b",
      "metadata": {
        "id": "f0ac303b"
      },
      "outputs": [],
      "source": [
        "webLinks = []\n",
        "for link in places:\n",
        "    link = link.replace(\" \",\"_\")\n",
        "    #print(link)\n",
        "    url = \"https://en.wikipedia.org/wiki/\"+link\n",
        "    webLinks.append(url)"
      ]
    },
    {
      "cell_type": "code",
      "execution_count": null,
      "id": "6bf5e7f3",
      "metadata": {
        "scrolled": false,
        "id": "6bf5e7f3"
      },
      "outputs": [],
      "source": [
        "for index,url in enumerate(webLinks):\n",
        "    print(url)"
      ]
    },
    {
      "cell_type": "code",
      "execution_count": null,
      "id": "663b0a47",
      "metadata": {
        "id": "663b0a47"
      },
      "outputs": [],
      "source": [
        "location_list = []\n",
        "\n",
        "def getLocation(url):\n",
        "    if url !='nn':\n",
        "        web_text = requests.get(url).text\n",
        "        web_soup = BeautifulSoup(web_text,'lxml')\n",
        "        table = web_soup.find('table', class_='infobox')\n",
        "        if table:\n",
        "            tr_list = table.find_all('tr')\n",
        "            for tr in tr_list:\n",
        "                if tr.th and (tr.th.text == 'Location' or tr.th.text == 'Province' or tr.th.text == 'District'):\n",
        "                    if tr.td:\n",
        "                        location = tr.td.text\n",
        "                        location_list.append(location.strip())\n",
        "                        return location\n",
        "    else:\n",
        "        location_list.append('none')        "
      ]
    },
    {
      "cell_type": "code",
      "execution_count": null,
      "id": "b668079d",
      "metadata": {
        "id": "b668079d"
      },
      "outputs": [],
      "source": [
        "for index,url in enumerate(webLinks):\n",
        "    print(getLocation(url))"
      ]
    },
    {
      "cell_type": "code",
      "execution_count": null,
      "id": "c9a85d58",
      "metadata": {
        "id": "c9a85d58"
      },
      "outputs": [],
      "source": [
        "def getVisitors(url):\n",
        "    if url != 'nn':\n",
        "        html_text = requests.get(url).text\n",
        "        soup = BeautifulSoup(html_text,'lxml')\n",
        "        table = soup.find('table',class_=\"infobox\")\n",
        "        if table:\n",
        "            tr_list = table.find_all('tr')\n",
        "            for tr in tr_list:\n",
        "                if tr.th and ('Visitors' in tr.th.text or 'Attendees' in tr.th.text or 'Attenders' in tr.th.text):\n",
        "                    return tr.td.text\n",
        "    return 'none'"
      ]
    },
    {
      "cell_type": "code",
      "execution_count": null,
      "id": "bccdc840",
      "metadata": {
        "id": "bccdc840"
      },
      "outputs": [],
      "source": [
        "for index,url in enumerate(webLinks):\n",
        "    print(getVisitors(url))"
      ]
    },
    {
      "cell_type": "code",
      "source": [
        ""
      ],
      "metadata": {
        "id": "9hfe3mTIg2o4"
      },
      "id": "9hfe3mTIg2o4",
      "execution_count": null,
      "outputs": []
    }
  ],
  "metadata": {
    "kernelspec": {
      "display_name": "Python 3 (ipykernel)",
      "language": "python",
      "name": "python3"
    },
    "language_info": {
      "codemirror_mode": {
        "name": "ipython",
        "version": 3
      },
      "file_extension": ".py",
      "mimetype": "text/x-python",
      "name": "python",
      "nbconvert_exporter": "python",
      "pygments_lexer": "ipython3",
      "version": "3.10.2"
    },
    "colab": {
      "name": "tourist places.ipynb",
      "provenance": [],
      "collapsed_sections": []
    }
  },
  "nbformat": 4,
  "nbformat_minor": 5
}