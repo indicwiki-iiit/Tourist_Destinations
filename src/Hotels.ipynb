{
 "cells": [
  {
   "cell_type": "code",
   "execution_count": 3,
   "id": "bf7ff02d",
   "metadata": {},
   "outputs": [],
   "source": [
    "from bs4 import BeautifulSoup\n",
    "import requests\n",
    "import pandas\n",
    "from openpyxl import load_workbook"
   ]
  },
  {
   "cell_type": "code",
   "execution_count": 7,
   "id": "7f19ab11",
   "metadata": {},
   "outputs": [
    {
     "name": "stdout",
     "output_type": "stream",
     "text": [
      "<openpyxl.workbook.workbook.Workbook object at 0x000001F1FA0F35E0>\n"
     ]
    }
   ],
   "source": [
    "wb = load_workbook(filename = '../links.xlsx')\n",
    "print(wb)"
   ]
  },
  {
   "cell_type": "code",
   "execution_count": 8,
   "id": "e8e4a9c6",
   "metadata": {},
   "outputs": [
    {
     "name": "stdout",
     "output_type": "stream",
     "text": [
      "<Worksheet \"sheet1\">\n"
     ]
    }
   ],
   "source": [
    "sheet_ranges = wb['sheet1']\n",
    "print(sheet_ranges)"
   ]
  },
  {
   "cell_type": "code",
   "execution_count": 9,
   "id": "45e7e33e",
   "metadata": {},
   "outputs": [
    {
     "ename": "AttributeError",
     "evalue": "'NoneType' object has no attribute 'replace'",
     "output_type": "error",
     "traceback": [
      "\u001b[1;31m---------------------------------------------------------------------------\u001b[0m",
      "\u001b[1;31mAttributeError\u001b[0m                            Traceback (most recent call last)",
      "Input \u001b[1;32mIn [9]\u001b[0m, in \u001b[0;36m<cell line: 2>\u001b[1;34m()\u001b[0m\n\u001b[0;32m      2\u001b[0m \u001b[38;5;28;01mfor\u001b[39;00m row \u001b[38;5;129;01min\u001b[39;00m sheet_ranges\u001b[38;5;241m.\u001b[39miter_rows(): \n\u001b[0;32m      3\u001b[0m     \u001b[38;5;28;01mfor\u001b[39;00m cell \u001b[38;5;129;01min\u001b[39;00m row:\n\u001b[1;32m----> 4\u001b[0m         cell\u001b[38;5;241m.\u001b[39mvalue \u001b[38;5;241m=\u001b[39m \u001b[43mcell\u001b[49m\u001b[38;5;241;43m.\u001b[39;49m\u001b[43mvalue\u001b[49m\u001b[38;5;241;43m.\u001b[39;49m\u001b[43mreplace\u001b[49m(\u001b[38;5;124m'\u001b[39m\u001b[38;5;124m \u001b[39m\u001b[38;5;124m'\u001b[39m,\u001b[38;5;124m'\u001b[39m\u001b[38;5;124m_\u001b[39m\u001b[38;5;124m'\u001b[39m)\n\u001b[0;32m      5\u001b[0m         names\u001b[38;5;241m.\u001b[39mappend(cell\u001b[38;5;241m.\u001b[39mvalue)\n\u001b[0;32m      6\u001b[0m \u001b[38;5;28mprint\u001b[39m(names)\n",
      "\u001b[1;31mAttributeError\u001b[0m: 'NoneType' object has no attribute 'replace'"
     ]
    }
   ],
   "source": [
    "names = []\n",
    "for row in sheet_ranges.iter_rows(): \n",
    "    for cell in row:\n",
    "        cell.value = cell.value.replace(' ','_')\n",
    "        names.append(cell.value)\n",
    "print(names)\n"
   ]
  },
  {
   "cell_type": "code",
   "execution_count": 10,
   "id": "3b42a6a2",
   "metadata": {},
   "outputs": [
    {
     "name": "stdout",
     "output_type": "stream",
     "text": [
      "1 https://www.google.com/travel/hotels/Continent?\n"
     ]
    }
   ],
   "source": [
    "urls = []\n",
    "for name in names:\n",
    "    url = 'https://www.google.com/travel/hotels/'+name+'?'\n",
    "    urls.append(url)\n",
    "\n",
    "for index,url in enumerate(urls):\n",
    "    print(index+1,url)"
   ]
  },
  {
   "cell_type": "code",
   "execution_count": 34,
   "id": "cc1bc7e6",
   "metadata": {},
   "outputs": [],
   "source": [
    "def getHotels(url):\n",
    "    html_text = requests.get(url).text\n",
    "    soup = BeautifulSoup(html_text,'lxml')\n",
    "    tab = soup.find('div',class_='l5cSPd')\n",
    "    container = tab.find_all('c-wiz',class_='f1dFQe')\n",
    "    name = ''\n",
    "    for div in container[:3]:\n",
    "        hotel = div.find('div',class_='QT7m7')\n",
    "        if hotel:\n",
    "            name+=hotel.text+' | '\n",
    "        else:\n",
    "            continue\n",
    "    if len(name) > 1:\n",
    "        return name\n",
    "    else:\n",
    "        return 'none'"
   ]
  },
  {
   "cell_type": "code",
   "execution_count": 35,
   "id": "1fbdf207",
   "metadata": {},
   "outputs": [
    {
     "name": "stdout",
     "output_type": "stream",
     "text": [
      "Pacific Hotel | K-POP HOTEL Seoul Tower | Hotel Prince Seoul | \n",
      "Insa Hostel in Seoul | Nine Tree Premier Hotel Insadong | Rakkojae Seoul Bukchon Hanok Village Main Hanok | \n",
      "Four Points by Sheraton Josun, Seoul Myeongdong | Tmark Grand Hotel, Myeongdong | LOTTE City Hotel, Myeongdong | \n",
      "LOTTE Hotel World | Signiel Seoul | Rosana Boutique Hotel | \n",
      "Todaki Guesthouse (토다기 게스트하우스) | Hanok Guesthouse 202 | Rakkojae Seoul Bukchon Hanok Village Main Hanok | \n",
      "LOTTE City Hotel, Myeongdong | KOREANA HOTEL | The Grand Hotel Myeongdong | \n",
      "Hotel Jeonggwanru | W Jiwoo Resort | White Vill Pension | \n",
      "Star Hostel Seoul Dongdeamun | Seoul Datbit DDP Guesthouse | Philstay Hostel DDP | \n",
      "Hotel Thesoom Forest | Ramada by Wyndham Yongin | Golden Tulip Ever Yongin | \n",
      "ITAEWON INN | Novotel Ambassador Seoul Yongsan | Itaewon Crown Tourist Hotel | \n",
      "K-POP HOTEL Seoul Tower | Hotel 8 hours | Tmark Grand Hotel, Myeongdong | \n",
      "Best Western Haeundae Hotel | Sunset Business Hotel | ibis Ambassador Busan Haeundae | \n",
      "Airhostel in Seoul | Star Hostel Seoul Dongdeamun | Ramada by Wyndham Seoul Dongdaemun | \n",
      "Ananti Hilton Busan | Osiria | Ananti Cove | \n",
      "Kensington Hotel Seorak | Kensington Hotel | Seorak Park Resort | \n",
      "KOREANA HOTEL | 24 Guesthouse Seoul City Hall | Hotel 8 hours | \n",
      "365 Businesstel | Kolon Hotel | Gyeongju Bulguksa Youth Town | \n",
      "탑클라우드호텔수원점 | Hotel Dono | 썬스타모텔 | \n",
      "none\n",
      "남포하운드호텔프리미어 | Bangga Bangga Guesthouse | Hermes Hotel | \n",
      "Nine Tree Premier Hotel Insadong | Shilla Stay Gwanghwamun | Nine Tree Premier Hotel Insadong | \n",
      "용인 몬터레이17 호텔 | Astro Hotel | 스카이호텔 | \n",
      "IP Boutique Hotel | G Guesthouse Itaewon | Grand Hyatt Seoul | \n",
      "성산일출봉 펜션 | Golden Tulip Hotel Jeju Seongsan | The Best Jeju Seongsan Hotel | \n",
      "Best Western Arirang Hill Dongdaemun | 동화킴스관광호텔 | Solarium City | \n",
      "Lotte Resort Jeju Art Villas | Lotte Hotel Jeju | Donnaeko Hill Resort | \n",
      "Insa Hostel in Seoul | Rakkojae Seoul Bukchon Hanok Village Main Hanok | Somerset Palace Seoul | \n",
      "Homers Hotel | H Avenue Hotel Gwangalli branch | Hotel Gwangan Pico Blue | \n",
      "황남관 한옥체험마을 Hwangnamguan Hanok Village & Hotel | 소풍길민박(gyeong ju guest house sopunggil) | Soi Hanok Stay | \n",
      "ITAEWON INN | Novotel Ambassador Seoul Yongsan | YaKorea Hostel Itaewon, Seoul, South Korea | \n",
      "Seoul Loft Apartments (SLA) | Orakai Daehakro Hotel | MayPlace Hotel | \n",
      "Lavalse Hotel | 태종파크텔 | G2모텔 | \n",
      "Kensington Hotel Seorak | The K Seoraksan Family Hotel | Kensington Hotel | \n",
      "Millennium Hilton Seoul | K-POP HOTEL Seoul Tower | Pacific Hotel | \n",
      "Jeonju Hanok Village accommodation yard pretty house | 전주 한옥마을 돌담집 | Yangsajae | \n",
      "Shilla Stay Gwanghwamun | Insa Hostel in Seoul | Somerset Palace Seoul | \n",
      "The Grand Hotel Myeongdong | ibis Styles Ambassador Seoul Myeongdong | Hotel Double A Myeongdong | \n",
      "오션스카이빌리지 | 숲속에향기 | 빈티지1950펜션 | \n",
      "Hotel 8 hours | K-POP HOTEL Seoul Tower | 24 Guesthouse Seoul City Hall | \n",
      "Airhostel in Seoul | SUMMIT HOTEL SEOUL | Hotel Skypark Kingstown Dongdaemun | \n",
      "Paraspara Seoul | Solarium City | 은평한옥마을 채효당 | \n",
      "니즈호텔 | Benikea Yangsan Hotel | 에스모텔 | \n",
      "Hotel Gracery Seoul | K-POP HOTEL Seoul Tower | Hotel 8 hours | \n",
      "Queen Elizabeth Olympic Park | Beijing Olympic Park | Olympic Park | \n",
      "Castle Lake Bed and Breakfast | Lideoseu | 정화여각 | \n",
      "Seoul Forest Stay | Chris Hostel | Hotel K World | \n",
      "Dal's Garden | 해인사관광호텔 | Pandora's box Pensions | \n",
      "Airhostel in Seoul | Naksan Balcony | 호스텔코리아 오리지널 | \n",
      "Kolon Hotel | BROWN-DOT HOTEL GYEONGJU | Arisu Gyeongju Hotel | \n",
      "Nol Guest House - Hostel | Easystay Guest House | Global Inn Busan Nampodong Hotel | \n",
      "ITAEWON INN | JW Marriott Hotel Seoul | Itaewon Crown Tourist Hotel | \n",
      "GLAD Gangnam COEX center | InterContinental Seoul Parnas | Park Hyatt Seoul | \n",
      "Lotte Hotel Jeju | You Us Hotel | Grand Josun Jeju | \n",
      "소피텔 앰배서더 서울 호텔 & 서비스드 레지던스 | Signiel Seoul | Hotel the Castle Jamsil | \n",
      "Phoenix Pyeongchang | White Cabin | Hotel Atrium Pyeongchang | \n",
      "Airhostel in Seoul | Star Hostel Seoul Dongdeamun | Seoul N Hotel Dongdaemun | \n",
      "Marigold Hotel | Mercure Ambassador Seoul Hongdae | Holiday Inn Express Seoul Hongdae, an IHG Hotel | \n",
      "Rakkojae Andong Hahoe Folk Village 락고재 안동 하회마을 | Andong CM Park Hotel | Okyeonjeongsa | \n",
      "Mini Hotel 141 | Doran Doran Guest House | 소풍길민박(gyeong ju guest house sopunggil) | \n",
      "Lotte Hotel Jeju | The Seaes Hotel & Resort, Jeju | Jeju Booyoung Hotel & Resort | \n",
      "none\n",
      "Orakai Cheonggyesan Hotel | Hilton Garden Inn Seoul Gangnam | 센트럴관광호텔 | \n",
      "Lotte Resort Jeju Art Villas | Lotte Hotel Jeju | 제주아이브 | \n",
      "Yong Pyong Ski Resort | Yongpyong Resort Tower Condominium | InterContinental Alpensia Pyeongchang Resort | \n",
      "호텔윈스토리 | Park sunshine jeju | Poong Gyung Hotel | \n",
      "Bluespring Boutique Hotel | Jeju CoCo-Pension Co | EQ Stay Hotel | \n",
      "Best Western Hotel Jeju | Jeju 901 | Grand Hyatt Jeju | \n",
      "Orakai Cheonggyesan Hotel | Hilton Garden Inn Seoul Gangnam | The K Hotel Seoul | \n",
      "Hotel Manu Seoul | K-POP HOTEL Seoul Tower | Millennium Hilton Seoul | \n",
      "Susong guest house | Somerset Palace Seoul | Insa Hostel in Seoul | \n",
      "Hotel Thesoom Forest | Ramada by Wyndham Yongin | Golden Tulip Ever Yongin | \n",
      "Fairfield by Marriott Seoul | Toyoko Inn Seoul Yeongdeungpo | Novotel Ambassador Seoul Yongsan | \n",
      "Hotel The Designers Konkuk University | Phil House | Hotel K World | \n",
      "none\n",
      "소풍길민박(gyeong ju guest house sopunggil) | 황남관 한옥체험마을 Hwangnamguan Hanok Village & Hotel | Soi Hanok Stay | \n",
      "High1 Grand Hotel | High1 Resort Mountain Condominium | Mayhills Resort and Suites | \n",
      "Yeouido Park Centre, Seoul - Marriott Executive Apartments | GLAD Hotel Yeouido Seoul | Fairfield by Marriott Seoul | \n",
      "The Purple Leaf Hotel | OYO Flagship 15932 Malkajgiri | Prajaya Iodge | \n",
      "Insa Hostel in Seoul | Nine Tree Premier Hotel Insadong | Rakkojae Seoul Bukchon Hanok Village Main Hanok | \n",
      "Best Western Haeundae Hotel | Sunset Business Hotel | Haeundae MS Hotel | \n",
      "JW Marriott Dongdaemun Square Seoul | Airhostel in Seoul | Hotel Skypark Kingstown Dongdaemun | \n",
      "Nol Guest House - Hostel | Easystay Guest House | Aventree Hotel Busan | \n",
      "오송 펜션 | 클라우드힐펜션 | 천리향펜션 | \n",
      "KOREANA HOTEL | Hotel 8 hours | Four Seasons Hotel Seoul | \n",
      "Gwangan Hound Hotel | 어반스테이 더테라스 | No. 25 Hotel Yongho | \n",
      "The november stay in Canal walk | Holiday Inn Incheon Songdo | Central Park Hotel | \n",
      "Oh My Guesthouse Seoul | Rakkojae Seoul Bukchon Hanok Village Main Hanok | Hanok Guesthouse 202 | \n",
      "Insa Hostel in Seoul | Nine Tree Premier Hotel Insadong | KOREANA HOTEL | \n",
      "InterContinental Seoul Parnas | Shilla Stay Samsung | 인터컨티넨탈 서울 코엑스 | \n",
      "G-Tourist Hotel Wolmido | BENIKEA THE BLISS HOTEL | Sea Moon Tourist Hotel | \n",
      "Militopia Hotel | 성남 저스트스테이호텔 남한산성점 | 소피텔 앰배서더 서울 호텔 & 서비스드 레지던스 | \n",
      "더스카이 풀빌라 | 4 Seasons Pension | 순천만 여행스케치 | \n",
      "황남관 한옥체험마을 Hwangnamguan Hanok Village & Hotel | Soi Hanok Stay | 신라고택 | \n",
      "스탠포드호텔 서울(STANFORD HOTEL SEOUL) | Golden Seoul Hotel | Birdsnest Hostel | \n",
      "none\n",
      "Eldis Regent Hotel | Toyoko Inn Daegu Dongseongno | 온도호텔 | \n",
      "K-POP HOTEL Seoul Tower | Hotel 8 hours | Shilla Stay Seodaemun | \n",
      "GLAD Hotel Yeouido Seoul | Yeouido Park Centre, Seoul - Marriott Executive Apartments | Conrad Seoul | \n"
     ]
    }
   ],
   "source": [
    "for index,url in enumerate(urls):\n",
    "    print(getHotels(url))"
   ]
  },
  {
   "cell_type": "code",
   "execution_count": null,
   "id": "32265e35",
   "metadata": {},
   "outputs": [],
   "source": []
  }
 ],
 "metadata": {
  "kernelspec": {
   "display_name": "Python 3 (ipykernel)",
   "language": "python",
   "name": "python3"
  },
  "language_info": {
   "codemirror_mode": {
    "name": "ipython",
    "version": 3
   },
   "file_extension": ".py",
   "mimetype": "text/x-python",
   "name": "python",
   "nbconvert_exporter": "python",
   "pygments_lexer": "ipython3",
   "version": "3.10.2"
  }
 },
 "nbformat": 4,
 "nbformat_minor": 5
}
